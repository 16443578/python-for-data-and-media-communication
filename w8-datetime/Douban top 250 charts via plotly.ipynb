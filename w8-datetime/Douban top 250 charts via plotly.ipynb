{
 "cells": [
  {
   "cell_type": "markdown",
   "metadata": {},
   "source": [
    "This notebook tries to refine the visualisations from group4's work all in Python: https://dnnsociety.org/2018/03/15/inside-doubans-top-250-a-door-pries-into-the-world-of-audiences-in-mainland-china/"
   ]
  },
  {
   "cell_type": "code",
   "execution_count": 1,
   "metadata": {},
   "outputs": [],
   "source": [
    "import pandas as pd"
   ]
  },
  {
   "cell_type": "code",
   "execution_count": 2,
   "metadata": {},
   "outputs": [],
   "source": [
    "df = pd.read_csv('Douban Top 250/Douban Top 250.csv')"
   ]
  },
  {
   "cell_type": "code",
   "execution_count": 3,
   "metadata": {},
   "outputs": [
    {
     "data": {
      "text/html": [
       "<div>\n",
       "<style scoped>\n",
       "    .dataframe tbody tr th:only-of-type {\n",
       "        vertical-align: middle;\n",
       "    }\n",
       "\n",
       "    .dataframe tbody tr th {\n",
       "        vertical-align: top;\n",
       "    }\n",
       "\n",
       "    .dataframe thead th {\n",
       "        text-align: right;\n",
       "    }\n",
       "</style>\n",
       "<table border=\"1\" class=\"dataframe\">\n",
       "  <thead>\n",
       "    <tr style=\"text-align: right;\">\n",
       "      <th></th>\n",
       "      <th>cn_name</th>\n",
       "      <th>alias</th>\n",
       "      <th>rating</th>\n",
       "      <th>comment_number</th>\n",
       "      <th>director</th>\n",
       "      <th>year</th>\n",
       "      <th>area</th>\n",
       "      <th>types</th>\n",
       "    </tr>\n",
       "  </thead>\n",
       "  <tbody>\n",
       "    <tr>\n",
       "      <th>0</th>\n",
       "      <td>肖申克的救赎</td>\n",
       "      <td>The Shawshank Redemption</td>\n",
       "      <td>9.6</td>\n",
       "      <td>988856</td>\n",
       "      <td>导演: 弗兰克·德拉邦特 Frank Darabont</td>\n",
       "      <td>1994</td>\n",
       "      <td>美国</td>\n",
       "      <td>犯罪 剧情</td>\n",
       "    </tr>\n",
       "    <tr>\n",
       "      <th>1</th>\n",
       "      <td>霸王别姬</td>\n",
       "      <td>再见，我的妾  /  Farewell My Concubine</td>\n",
       "      <td>9.5</td>\n",
       "      <td>718351</td>\n",
       "      <td>导演: 陈凯歌 Kaige Chen</td>\n",
       "      <td>1993</td>\n",
       "      <td>中国大陆 香港</td>\n",
       "      <td>剧情 爱情 同性</td>\n",
       "    </tr>\n",
       "    <tr>\n",
       "      <th>2</th>\n",
       "      <td>这个杀手不太冷</td>\n",
       "      <td>Léon</td>\n",
       "      <td>9.4</td>\n",
       "      <td>932418</td>\n",
       "      <td>导演: 吕克·贝松 Luc Besson</td>\n",
       "      <td>1994</td>\n",
       "      <td>法国</td>\n",
       "      <td>剧情 动作 犯罪</td>\n",
       "    </tr>\n",
       "    <tr>\n",
       "      <th>3</th>\n",
       "      <td>阿甘正传</td>\n",
       "      <td>Forrest Gump</td>\n",
       "      <td>9.4</td>\n",
       "      <td>792958</td>\n",
       "      <td>导演: Robert Zemeckis</td>\n",
       "      <td>1994</td>\n",
       "      <td>美国</td>\n",
       "      <td>剧情 爱情</td>\n",
       "    </tr>\n",
       "    <tr>\n",
       "      <th>4</th>\n",
       "      <td>美丽人生</td>\n",
       "      <td>La vita è bella</td>\n",
       "      <td>9.5</td>\n",
       "      <td>463283</td>\n",
       "      <td>导演: 罗伯托·贝尼尼 Roberto Benigni</td>\n",
       "      <td>1997</td>\n",
       "      <td>意大利</td>\n",
       "      <td>剧情 喜剧 爱情 战争</td>\n",
       "    </tr>\n",
       "  </tbody>\n",
       "</table>\n",
       "</div>"
      ],
      "text/plain": [
       "   cn_name                             alias  rating  comment_number  \\\n",
       "0   肖申克的救赎          The Shawshank Redemption     9.6          988856   \n",
       "1     霸王别姬  再见，我的妾  /  Farewell My Concubine     9.5          718351   \n",
       "2  这个杀手不太冷                              Léon     9.4          932418   \n",
       "3     阿甘正传                      Forrest Gump     9.4          792958   \n",
       "4     美丽人生                   La vita è bella     9.5          463283   \n",
       "\n",
       "                         director  year       area         types  \n",
       "0  导演: 弗兰克·德拉邦特 Frank Darabont     1994        美国          犯罪 剧情  \n",
       "1           导演: 陈凯歌 Kaige Chen     1993   中国大陆 香港       剧情 爱情 同性  \n",
       "2         导演: 吕克·贝松 Luc Besson     1994        法国       剧情 动作 犯罪  \n",
       "3          导演: Robert Zemeckis     1994        美国          剧情 爱情  \n",
       "4  导演: 罗伯托·贝尼尼 Roberto Benigni     1997       意大利    剧情 喜剧 爱情 战争  "
      ]
     },
     "execution_count": 3,
     "metadata": {},
     "output_type": "execute_result"
    }
   ],
   "source": [
    "df.head()"
   ]
  },
  {
   "cell_type": "code",
   "execution_count": 4,
   "metadata": {},
   "outputs": [],
   "source": [
    "import matplotlib\n",
    "from matplotlib import pyplot as plt\n",
    "import seaborn as sns"
   ]
  },
  {
   "cell_type": "code",
   "execution_count": 5,
   "metadata": {},
   "outputs": [
    {
     "data": {
      "text/plain": [
       "<matplotlib.axes._subplots.AxesSubplot at 0x10ed1c160>"
      ]
     },
     "execution_count": 5,
     "metadata": {},
     "output_type": "execute_result"
    },
    {
     "data": {
      "image/png": "[encoded data removed]",
      "text/plain": [
       "<matplotlib.figure.Figure at 0x10ece99b0>"
      ]
     },
     "metadata": {},
     "output_type": "display_data"
    }
   ],
   "source": [
    "df['director'].value_counts().plot(kind='bar')"
   ]
  },
  {
   "cell_type": "code",
   "execution_count": 6,
   "metadata": {},
   "outputs": [
    {
     "data": {
      "text/plain": [
       "<matplotlib.axes._subplots.AxesSubplot at 0x10ee75a58>"
      ]
     },
     "execution_count": 6,
     "metadata": {},
     "output_type": "execute_result"
    },
    {
     "data": {
      "image/png": "[encoded data removed]",
      "text/plain": [
       "<matplotlib.figure.Figure at 0x10ee2c400>"
      ]
     },
     "metadata": {},
     "output_type": "display_data"
    }
   ],
   "source": [
    "df['director'].value_counts()[:15].plot(kind='bar')"
   ]
  },
  {
   "cell_type": "code",
   "execution_count": 7,
   "metadata": {},
   "outputs": [
    {
     "name": "stdout",
     "output_type": "stream",
     "text": [
      "Requirement already satisfied: plotly in /Users/hupili/Desktop/COMM7780-JOUR7280/python-for-data-and-media-communication/venv/lib/python3.6/site-packages\n",
      "Requirement already satisfied: decorator>=4.0.6 in /Users/hupili/Desktop/COMM7780-JOUR7280/python-for-data-and-media-communication/venv/lib/python3.6/site-packages (from plotly)\n",
      "Requirement already satisfied: nbformat>=4.2 in /Users/hupili/Desktop/COMM7780-JOUR7280/python-for-data-and-media-communication/venv/lib/python3.6/site-packages (from plotly)\n",
      "Requirement already satisfied: pytz in /Users/hupili/Desktop/COMM7780-JOUR7280/python-for-data-and-media-communication/venv/lib/python3.6/site-packages (from plotly)\n",
      "Requirement already satisfied: requests in /Users/hupili/Desktop/COMM7780-JOUR7280/python-for-data-and-media-communication/venv/lib/python3.6/site-packages (from plotly)\n",
      "Requirement already satisfied: six in /Users/hupili/Desktop/COMM7780-JOUR7280/python-for-data-and-media-communication/venv/lib/python3.6/site-packages (from plotly)\n",
      "Requirement already satisfied: jupyter-core in /Users/hupili/Desktop/COMM7780-JOUR7280/python-for-data-and-media-communication/venv/lib/python3.6/site-packages (from nbformat>=4.2->plotly)\n",
      "Requirement already satisfied: traitlets>=4.1 in /Users/hupili/Desktop/COMM7780-JOUR7280/python-for-data-and-media-communication/venv/lib/python3.6/site-packages (from nbformat>=4.2->plotly)\n",
      "Requirement already satisfied: jsonschema!=2.5.0,>=2.4 in /Users/hupili/Desktop/COMM7780-JOUR7280/python-for-data-and-media-communication/venv/lib/python3.6/site-packages (from nbformat>=4.2->plotly)\n",
      "Requirement already satisfied: ipython-genutils in /Users/hupili/Desktop/COMM7780-JOUR7280/python-for-data-and-media-communication/venv/lib/python3.6/site-packages (from nbformat>=4.2->plotly)\n",
      "Requirement already satisfied: urllib3<1.23,>=1.21.1 in /Users/hupili/Desktop/COMM7780-JOUR7280/python-for-data-and-media-communication/venv/lib/python3.6/site-packages (from requests->plotly)\n",
      "Requirement already satisfied: chardet<3.1.0,>=3.0.2 in /Users/hupili/Desktop/COMM7780-JOUR7280/python-for-data-and-media-communication/venv/lib/python3.6/site-packages (from requests->plotly)\n",
      "Requirement already satisfied: idna<2.7,>=2.5 in /Users/hupili/Desktop/COMM7780-JOUR7280/python-for-data-and-media-communication/venv/lib/python3.6/site-packages (from requests->plotly)\n",
      "Requirement already satisfied: certifi>=2017.4.17 in /Users/hupili/Desktop/COMM7780-JOUR7280/python-for-data-and-media-communication/venv/lib/python3.6/site-packages (from requests->plotly)\n"
     ]
    }
   ],
   "source": [
    "!pip install plotly"
   ]
  },
  {
   "cell_type": "code",
   "execution_count": 8,
   "metadata": {},
   "outputs": [
    {
     "data": {
      "text/html": [
       "<script>requirejs.config({paths: { 'plotly': ['https://cdn.plot.ly/plotly-latest.min']},});if(!window.Plotly) {{require(['plotly'],function(plotly) {window.Plotly=plotly;});}}</script>"
      ],
      "text/vnd.plotly.v1+html": [
       "<script>requirejs.config({paths: { 'plotly': ['https://cdn.plot.ly/plotly-latest.min']},});if(!window.Plotly) {{require(['plotly'],function(plotly) {window.Plotly=plotly;});}}</script>"
      ]
     },
     "metadata": {},
     "output_type": "display_data"
    },
    {
     "data": {
      "application/vnd.plotly.v1+json": {
       "data": [
        {
         "type": "scatter",
         "x": [
          1,
          2,
          3,
          4
         ],
         "y": [
          4,
          3,
          2,
          1
         ]
        }
       ],
       "layout": {
        "title": "hello world"
       }
      },
      "text/html": [
       "<div id=\"296a87d3-2a1c-4af8-84c1-77f3c89ddfe1\" style=\"height: 525px; width: 100%;\" class=\"plotly-graph-div\"></div><script type=\"text/javascript\">require([\"plotly\"], function(Plotly) { window.PLOTLYENV=window.PLOTLYENV || {};window.PLOTLYENV.BASE_URL=\"https://plot.ly\";Plotly.newPlot(\"296a87d3-2a1c-4af8-84c1-77f3c89ddfe1\", [{\"type\": \"scatter\", \"x\": [1, 2, 3, 4], \"y\": [4, 3, 2, 1]}], {\"title\": \"hello world\"}, {\"showLink\": true, \"linkText\": \"Export to plot.ly\"})});</script>"
      ],
      "text/vnd.plotly.v1+html": [
       "<div id=\"296a87d3-2a1c-4af8-84c1-77f3c89ddfe1\" style=\"height: 525px; width: 100%;\" class=\"plotly-graph-div\"></div><script type=\"text/javascript\">require([\"plotly\"], function(Plotly) { window.PLOTLYENV=window.PLOTLYENV || {};window.PLOTLYENV.BASE_URL=\"https://plot.ly\";Plotly.newPlot(\"296a87d3-2a1c-4af8-84c1-77f3c89ddfe1\", [{\"type\": \"scatter\", \"x\": [1, 2, 3, 4], \"y\": [4, 3, 2, 1]}], {\"title\": \"hello world\"}, {\"showLink\": true, \"linkText\": \"Export to plot.ly\"})});</script>"
      ]
     },
     "metadata": {},
     "output_type": "display_data"
    }
   ],
   "source": [
    "import plotly\n",
    "from plotly.graph_objs import Scatter, Layout\n",
    "\n",
    "plotly.offline.init_notebook_mode(connected=True)\n",
    "\n",
    "plotly.offline.iplot({\n",
    "    \"data\": [Scatter(x=[1, 2, 3, 4], y=[4, 3, 2, 1])],\n",
    "    \"layout\": Layout(title=\"hello world\")\n",
    "})"
   ]
  },
  {
   "cell_type": "code",
   "execution_count": 9,
   "metadata": {},
   "outputs": [],
   "source": [
    "from plotly.offline import iplot"
   ]
  },
  {
   "cell_type": "code",
   "execution_count": 10,
   "metadata": {},
   "outputs": [],
   "source": [
    "from plotly.graph_objs import Bar"
   ]
  },
  {
   "cell_type": "code",
   "execution_count": 11,
   "metadata": {
    "scrolled": true
   },
   "outputs": [
    {
     "data": {
      "application/vnd.plotly.v1+json": {
       "data": [
        {
         "type": "bar",
         "x": [
          "导演: 宫崎骏 Hayao Miyazaki   ",
          "导演: 克里斯托弗·诺兰 Christopher Nolan   ",
          "导演: 史蒂文·斯皮尔伯格 Steven Spielberg   ",
          "导演: 王家卫 Kar Wai Wong   ",
          "导演: 李安 Ang Lee   ",
          "导演: 大卫·芬奇 David Fincher   ",
          "导演: 理查德·柯蒂斯 Richard Curtis   ",
          "导演: 姜文 Wen Jiang   ",
          "导演: 詹姆斯·卡梅隆 James Cameron   ",
          "导演: 吴宇森 John Woo   ",
          "导演: 刘镇伟 Jeffrey Lau   ",
          "导演: 彼得·杰克逊 Peter Jackson   ",
          "导演: 朱塞佩·托纳多雷 Giuseppe Tornatore   ",
          "导演: 弗朗西斯·福特·科波拉 Francis Ford Coppola   ",
          "导演: 理查德·林克莱特 Richard Linklater   "
         ],
         "y": [
          7,
          7,
          5,
          5,
          4,
          4,
          3,
          3,
          3,
          3,
          3,
          3,
          3,
          3,
          3
         ]
        }
       ],
       "layout": {
        "title": "Top 250 Directors"
       }
      },
      "text/html": [
       "<div id=\"eaa0fc98-29ed-4d2c-89e2-097154f87f86\" style=\"height: 525px; width: 100%;\" class=\"plotly-graph-div\"></div><script type=\"text/javascript\">require([\"plotly\"], function(Plotly) { window.PLOTLYENV=window.PLOTLYENV || {};window.PLOTLYENV.BASE_URL=\"https://plot.ly\";Plotly.newPlot(\"eaa0fc98-29ed-4d2c-89e2-097154f87f86\", [{\"type\": \"bar\", \"x\": [\"\\u5bfc\\u6f14: \\u5bab\\u5d0e\\u9a8f Hayao Miyazaki   \", \"\\u5bfc\\u6f14: \\u514b\\u91cc\\u65af\\u6258\\u5f17\\u00b7\\u8bfa\\u5170 Christopher Nolan   \", \"\\u5bfc\\u6f14: \\u53f2\\u8482\\u6587\\u00b7\\u65af\\u76ae\\u5c14\\u4f2f\\u683c Steven Spielberg   \", \"\\u5bfc\\u6f14: \\u738b\\u5bb6\\u536b Kar Wai Wong   \", \"\\u5bfc\\u6f14: \\u674e\\u5b89 Ang Lee   \", \"\\u5bfc\\u6f14: \\u5927\\u536b\\u00b7\\u82ac\\u5947 David Fincher   \", \"\\u5bfc\\u6f14: \\u7406\\u67e5\\u5fb7\\u00b7\\u67ef\\u8482\\u65af Richard Curtis   \", \"\\u5bfc\\u6f14: \\u59dc\\u6587 Wen Jiang   \", \"\\u5bfc\\u6f14: \\u8a79\\u59c6\\u65af\\u00b7\\u5361\\u6885\\u9686 James Cameron   \", \"\\u5bfc\\u6f14: \\u5434\\u5b87\\u68ee John Woo   \", \"\\u5bfc\\u6f14: \\u5218\\u9547\\u4f1f Jeffrey Lau   \", \"\\u5bfc\\u6f14: \\u5f7c\\u5f97\\u00b7\\u6770\\u514b\\u900a Peter Jackson   \", \"\\u5bfc\\u6f14: \\u6731\\u585e\\u4f69\\u00b7\\u6258\\u7eb3\\u591a\\u96f7 Giuseppe Tornatore   \", \"\\u5bfc\\u6f14: \\u5f17\\u6717\\u897f\\u65af\\u00b7\\u798f\\u7279\\u00b7\\u79d1\\u6ce2\\u62c9 Francis Ford Coppola   \", \"\\u5bfc\\u6f14: \\u7406\\u67e5\\u5fb7\\u00b7\\u6797\\u514b\\u83b1\\u7279 Richard Linklater   \"], \"y\": [7, 7, 5, 5, 4, 4, 3, 3, 3, 3, 3, 3, 3, 3, 3]}], {\"title\": \"Top 250 Directors\"}, {\"showLink\": true, \"linkText\": \"Export to plot.ly\"})});</script>"
      ],
      "text/vnd.plotly.v1+html": [
       "<div id=\"eaa0fc98-29ed-4d2c-89e2-097154f87f86\" style=\"height: 525px; width: 100%;\" class=\"plotly-graph-div\"></div><script type=\"text/javascript\">require([\"plotly\"], function(Plotly) { window.PLOTLYENV=window.PLOTLYENV || {};window.PLOTLYENV.BASE_URL=\"https://plot.ly\";Plotly.newPlot(\"eaa0fc98-29ed-4d2c-89e2-097154f87f86\", [{\"type\": \"bar\", \"x\": [\"\\u5bfc\\u6f14: \\u5bab\\u5d0e\\u9a8f Hayao Miyazaki   \", \"\\u5bfc\\u6f14: \\u514b\\u91cc\\u65af\\u6258\\u5f17\\u00b7\\u8bfa\\u5170 Christopher Nolan   \", \"\\u5bfc\\u6f14: \\u53f2\\u8482\\u6587\\u00b7\\u65af\\u76ae\\u5c14\\u4f2f\\u683c Steven Spielberg   \", \"\\u5bfc\\u6f14: \\u738b\\u5bb6\\u536b Kar Wai Wong   \", \"\\u5bfc\\u6f14: \\u674e\\u5b89 Ang Lee   \", \"\\u5bfc\\u6f14: \\u5927\\u536b\\u00b7\\u82ac\\u5947 David Fincher   \", \"\\u5bfc\\u6f14: \\u7406\\u67e5\\u5fb7\\u00b7\\u67ef\\u8482\\u65af Richard Curtis   \", \"\\u5bfc\\u6f14: \\u59dc\\u6587 Wen Jiang   \", \"\\u5bfc\\u6f14: \\u8a79\\u59c6\\u65af\\u00b7\\u5361\\u6885\\u9686 James Cameron   \", \"\\u5bfc\\u6f14: \\u5434\\u5b87\\u68ee John Woo   \", \"\\u5bfc\\u6f14: \\u5218\\u9547\\u4f1f Jeffrey Lau   \", \"\\u5bfc\\u6f14: \\u5f7c\\u5f97\\u00b7\\u6770\\u514b\\u900a Peter Jackson   \", \"\\u5bfc\\u6f14: \\u6731\\u585e\\u4f69\\u00b7\\u6258\\u7eb3\\u591a\\u96f7 Giuseppe Tornatore   \", \"\\u5bfc\\u6f14: \\u5f17\\u6717\\u897f\\u65af\\u00b7\\u798f\\u7279\\u00b7\\u79d1\\u6ce2\\u62c9 Francis Ford Coppola   \", \"\\u5bfc\\u6f14: \\u7406\\u67e5\\u5fb7\\u00b7\\u6797\\u514b\\u83b1\\u7279 Richard Linklater   \"], \"y\": [7, 7, 5, 5, 4, 4, 3, 3, 3, 3, 3, 3, 3, 3, 3]}], {\"title\": \"Top 250 Directors\"}, {\"showLink\": true, \"linkText\": \"Export to plot.ly\"})});</script>"
      ]
     },
     "metadata": {},
     "output_type": "display_data"
    }
   ],
   "source": [
    "df_top15_directors = df['director'].value_counts()[:15]\n",
    "\n",
    "iplot({\n",
    "    \"data\": [Bar(x=df_top15_directors.index, y=df_top15_directors.values)],\n",
    "    \"layout\": Layout(title=\"Top 250 Directors\")\n",
    "})"
   ]
  },
  {
   "cell_type": "markdown",
   "metadata": {},
   "source": [
    "Let's talk about \"导演: 王家卫 Kar Wai Wong\". We need to highlight him to give the readers better visual guide."
   ]
  },
  {
   "cell_type": "code",
   "execution_count": 12,
   "metadata": {},
   "outputs": [
    {
     "data": {
      "text/plain": [
       "'导演: 史蒂文·斯皮尔伯格 Steven Spielberg   '"
      ]
     },
     "execution_count": 12,
     "metadata": {},
     "output_type": "execute_result"
    }
   ],
   "source": [
    "df_top15_directors.index[2]"
   ]
  },
  {
   "cell_type": "code",
   "execution_count": 13,
   "metadata": {},
   "outputs": [
    {
     "data": {
      "text/plain": [
       "5"
      ]
     },
     "execution_count": 13,
     "metadata": {},
     "output_type": "execute_result"
    }
   ],
   "source": [
    "df_top15_directors.values[2]"
   ]
  },
  {
   "cell_type": "code",
   "execution_count": 14,
   "metadata": {},
   "outputs": [],
   "source": [
    "key = df_top15_directors.index[2]"
   ]
  },
  {
   "cell_type": "code",
   "execution_count": 15,
   "metadata": {},
   "outputs": [
    {
     "data": {
      "text/plain": [
       "5"
      ]
     },
     "execution_count": 15,
     "metadata": {},
     "output_type": "execute_result"
    }
   ],
   "source": [
    "df_top15_directors[key]"
   ]
  },
  {
   "cell_type": "code",
   "execution_count": 16,
   "metadata": {},
   "outputs": [],
   "source": [
    "colors = ['#409FB2'] * len(df_top15_directors)\n",
    "colors[2] = '#FF8217'"
   ]
  },
  {
   "cell_type": "code",
   "execution_count": 17,
   "metadata": {},
   "outputs": [
    {
     "data": {
      "application/vnd.plotly.v1+json": {
       "data": [
        {
         "marker": {
          "color": [
           "#409FB2",
           "#409FB2",
           "#FF8217",
           "#409FB2",
           "#409FB2",
           "#409FB2",
           "#409FB2",
           "#409FB2",
           "#409FB2",
           "#409FB2",
           "#409FB2",
           "#409FB2",
           "#409FB2",
           "#409FB2",
           "#409FB2"
          ]
         },
         "type": "bar",
         "x": [
          "导演: 宫崎骏 Hayao Miyazaki   ",
          "导演: 克里斯托弗·诺兰 Christopher Nolan   ",
          "导演: 史蒂文·斯皮尔伯格 Steven Spielberg   ",
          "导演: 王家卫 Kar Wai Wong   ",
          "导演: 李安 Ang Lee   ",
          "导演: 大卫·芬奇 David Fincher   ",
          "导演: 理查德·柯蒂斯 Richard Curtis   ",
          "导演: 姜文 Wen Jiang   ",
          "导演: 詹姆斯·卡梅隆 James Cameron   ",
          "导演: 吴宇森 John Woo   ",
          "导演: 刘镇伟 Jeffrey Lau   ",
          "导演: 彼得·杰克逊 Peter Jackson   ",
          "导演: 朱塞佩·托纳多雷 Giuseppe Tornatore   ",
          "导演: 弗朗西斯·福特·科波拉 Francis Ford Coppola   ",
          "导演: 理查德·林克莱特 Richard Linklater   "
         ],
         "y": [
          7,
          7,
          5,
          5,
          4,
          4,
          3,
          3,
          3,
          3,
          3,
          3,
          3,
          3,
          3
         ]
        }
       ],
       "layout": {
        "title": "Top 250 Directors"
       }
      },
      "text/html": [
       "<div id=\"e2af4e0f-5de5-4b95-a892-76fac2a624e8\" style=\"height: 525px; width: 100%;\" class=\"plotly-graph-div\"></div><script type=\"text/javascript\">require([\"plotly\"], function(Plotly) { window.PLOTLYENV=window.PLOTLYENV || {};window.PLOTLYENV.BASE_URL=\"https://plot.ly\";Plotly.newPlot(\"e2af4e0f-5de5-4b95-a892-76fac2a624e8\", [{\"type\": \"bar\", \"x\": [\"\\u5bfc\\u6f14: \\u5bab\\u5d0e\\u9a8f Hayao Miyazaki   \", \"\\u5bfc\\u6f14: \\u514b\\u91cc\\u65af\\u6258\\u5f17\\u00b7\\u8bfa\\u5170 Christopher Nolan   \", \"\\u5bfc\\u6f14: \\u53f2\\u8482\\u6587\\u00b7\\u65af\\u76ae\\u5c14\\u4f2f\\u683c Steven Spielberg   \", \"\\u5bfc\\u6f14: \\u738b\\u5bb6\\u536b Kar Wai Wong   \", \"\\u5bfc\\u6f14: \\u674e\\u5b89 Ang Lee   \", \"\\u5bfc\\u6f14: \\u5927\\u536b\\u00b7\\u82ac\\u5947 David Fincher   \", \"\\u5bfc\\u6f14: \\u7406\\u67e5\\u5fb7\\u00b7\\u67ef\\u8482\\u65af Richard Curtis   \", \"\\u5bfc\\u6f14: \\u59dc\\u6587 Wen Jiang   \", \"\\u5bfc\\u6f14: \\u8a79\\u59c6\\u65af\\u00b7\\u5361\\u6885\\u9686 James Cameron   \", \"\\u5bfc\\u6f14: \\u5434\\u5b87\\u68ee John Woo   \", \"\\u5bfc\\u6f14: \\u5218\\u9547\\u4f1f Jeffrey Lau   \", \"\\u5bfc\\u6f14: \\u5f7c\\u5f97\\u00b7\\u6770\\u514b\\u900a Peter Jackson   \", \"\\u5bfc\\u6f14: \\u6731\\u585e\\u4f69\\u00b7\\u6258\\u7eb3\\u591a\\u96f7 Giuseppe Tornatore   \", \"\\u5bfc\\u6f14: \\u5f17\\u6717\\u897f\\u65af\\u00b7\\u798f\\u7279\\u00b7\\u79d1\\u6ce2\\u62c9 Francis Ford Coppola   \", \"\\u5bfc\\u6f14: \\u7406\\u67e5\\u5fb7\\u00b7\\u6797\\u514b\\u83b1\\u7279 Richard Linklater   \"], \"y\": [7, 7, 5, 5, 4, 4, 3, 3, 3, 3, 3, 3, 3, 3, 3], \"marker\": {\"color\": [\"#409FB2\", \"#409FB2\", \"#FF8217\", \"#409FB2\", \"#409FB2\", \"#409FB2\", \"#409FB2\", \"#409FB2\", \"#409FB2\", \"#409FB2\", \"#409FB2\", \"#409FB2\", \"#409FB2\", \"#409FB2\", \"#409FB2\"]}}], {\"title\": \"Top 250 Directors\"}, {\"showLink\": true, \"linkText\": \"Export to plot.ly\"})});</script>"
      ],
      "text/vnd.plotly.v1+html": [
       "<div id=\"e2af4e0f-5de5-4b95-a892-76fac2a624e8\" style=\"height: 525px; width: 100%;\" class=\"plotly-graph-div\"></div><script type=\"text/javascript\">require([\"plotly\"], function(Plotly) { window.PLOTLYENV=window.PLOTLYENV || {};window.PLOTLYENV.BASE_URL=\"https://plot.ly\";Plotly.newPlot(\"e2af4e0f-5de5-4b95-a892-76fac2a624e8\", [{\"type\": \"bar\", \"x\": [\"\\u5bfc\\u6f14: \\u5bab\\u5d0e\\u9a8f Hayao Miyazaki   \", \"\\u5bfc\\u6f14: \\u514b\\u91cc\\u65af\\u6258\\u5f17\\u00b7\\u8bfa\\u5170 Christopher Nolan   \", \"\\u5bfc\\u6f14: \\u53f2\\u8482\\u6587\\u00b7\\u65af\\u76ae\\u5c14\\u4f2f\\u683c Steven Spielberg   \", \"\\u5bfc\\u6f14: \\u738b\\u5bb6\\u536b Kar Wai Wong   \", \"\\u5bfc\\u6f14: \\u674e\\u5b89 Ang Lee   \", \"\\u5bfc\\u6f14: \\u5927\\u536b\\u00b7\\u82ac\\u5947 David Fincher   \", \"\\u5bfc\\u6f14: \\u7406\\u67e5\\u5fb7\\u00b7\\u67ef\\u8482\\u65af Richard Curtis   \", \"\\u5bfc\\u6f14: \\u59dc\\u6587 Wen Jiang   \", \"\\u5bfc\\u6f14: \\u8a79\\u59c6\\u65af\\u00b7\\u5361\\u6885\\u9686 James Cameron   \", \"\\u5bfc\\u6f14: \\u5434\\u5b87\\u68ee John Woo   \", \"\\u5bfc\\u6f14: \\u5218\\u9547\\u4f1f Jeffrey Lau   \", \"\\u5bfc\\u6f14: \\u5f7c\\u5f97\\u00b7\\u6770\\u514b\\u900a Peter Jackson   \", \"\\u5bfc\\u6f14: \\u6731\\u585e\\u4f69\\u00b7\\u6258\\u7eb3\\u591a\\u96f7 Giuseppe Tornatore   \", \"\\u5bfc\\u6f14: \\u5f17\\u6717\\u897f\\u65af\\u00b7\\u798f\\u7279\\u00b7\\u79d1\\u6ce2\\u62c9 Francis Ford Coppola   \", \"\\u5bfc\\u6f14: \\u7406\\u67e5\\u5fb7\\u00b7\\u6797\\u514b\\u83b1\\u7279 Richard Linklater   \"], \"y\": [7, 7, 5, 5, 4, 4, 3, 3, 3, 3, 3, 3, 3, 3, 3], \"marker\": {\"color\": [\"#409FB2\", \"#409FB2\", \"#FF8217\", \"#409FB2\", \"#409FB2\", \"#409FB2\", \"#409FB2\", \"#409FB2\", \"#409FB2\", \"#409FB2\", \"#409FB2\", \"#409FB2\", \"#409FB2\", \"#409FB2\", \"#409FB2\"]}}], {\"title\": \"Top 250 Directors\"}, {\"showLink\": true, \"linkText\": \"Export to plot.ly\"})});</script>"
      ]
     },
     "metadata": {},
     "output_type": "display_data"
    }
   ],
   "source": [
    "iplot({\n",
    "    \"data\": [Bar(\n",
    "        x=df_top15_directors.index, \n",
    "        y=df_top15_directors.values,\n",
    "        marker={\n",
    "            'color': colors\n",
    "        }\n",
    "    )],\n",
    "    \"layout\": Layout(title=\"Top 250 Directors\")\n",
    "})"
   ]
  },
  {
   "cell_type": "code",
   "execution_count": 18,
   "metadata": {},
   "outputs": [
    {
     "data": {
      "text/plain": [
       "Counter({'传记': 14,\n",
       "         '儿童': 4,\n",
       "         '冒险': 41,\n",
       "         '剧情': 195,\n",
       "         '动作': 30,\n",
       "         '动画': 33,\n",
       "         '历史': 11,\n",
       "         '古装': 6,\n",
       "         '同性': 8,\n",
       "         '喜剧': 45,\n",
       "         '奇幻': 33,\n",
       "         '家庭': 25,\n",
       "         '恐怖': 2,\n",
       "         '悬疑': 34,\n",
       "         '情色': 1,\n",
       "         '惊悚': 34,\n",
       "         '战争': 19,\n",
       "         '歌舞': 5,\n",
       "         '武侠': 3,\n",
       "         '灾难': 1,\n",
       "         '爱情': 63,\n",
       "         '犯罪': 45,\n",
       "         '科幻': 25,\n",
       "         '纪录片': 4,\n",
       "         '西部': 4,\n",
       "         '运动': 2,\n",
       "         '音乐': 7})"
      ]
     },
     "execution_count": 18,
     "metadata": {},
     "output_type": "execute_result"
    }
   ],
   "source": [
    "from collections import Counter\n",
    "c = Counter()\n",
    "df['types'].apply(lambda x: c.update(set(x.split())))\n",
    "c"
   ]
  },
  {
   "cell_type": "code",
   "execution_count": 19,
   "metadata": {},
   "outputs": [],
   "source": [
    "import wordcloud\n",
    "from PIL import Image\n",
    "import numpy as np"
   ]
  },
  {
   "cell_type": "code",
   "execution_count": 20,
   "metadata": {},
   "outputs": [],
   "source": [
    "mask = np.array(Image.open('alice_mask.png'))"
   ]
  },
  {
   "cell_type": "code",
   "execution_count": 21,
   "metadata": {},
   "outputs": [],
   "source": [
    "wc = wordcloud.WordCloud(background_color=\"white\", max_words=2000, mask=mask)"
   ]
  },
  {
   "cell_type": "code",
   "execution_count": 22,
   "metadata": {},
   "outputs": [
    {
     "data": {
      "image/png": "[encoded data removed]",
      "text/plain": [
       "<matplotlib.figure.Figure at 0x1101c9898>"
      ]
     },
     "metadata": {},
     "output_type": "display_data"
    }
   ],
   "source": [
    "wc.generate_from_frequencies(c)\n",
    "plt.figure(figsize=(10, 10))\n",
    "plt.imshow(wc, interpolation='bilinear')\n",
    "plt.axis(\"off\")\n",
    "plt.show()"
   ]
  },
  {
   "cell_type": "code",
   "execution_count": 23,
   "metadata": {},
   "outputs": [
    {
     "data": {
      "text/plain": [
       "Counter({'传记': 14,\n",
       "         '儿童': 4,\n",
       "         '冒险': 41,\n",
       "         '剧情': 195,\n",
       "         '动作': 30,\n",
       "         '动画': 33,\n",
       "         '历史': 11,\n",
       "         '古装': 6,\n",
       "         '同性': 8,\n",
       "         '喜剧': 45,\n",
       "         '奇幻': 33,\n",
       "         '家庭': 25,\n",
       "         '恐怖': 2,\n",
       "         '悬疑': 34,\n",
       "         '情色': 1,\n",
       "         '惊悚': 34,\n",
       "         '战争': 19,\n",
       "         '歌舞': 5,\n",
       "         '武侠': 3,\n",
       "         '灾难': 1,\n",
       "         '爱情': 63,\n",
       "         '犯罪': 45,\n",
       "         '科幻': 25,\n",
       "         '纪录片': 4,\n",
       "         '西部': 4,\n",
       "         '运动': 2,\n",
       "         '音乐': 7})"
      ]
     },
     "execution_count": 23,
     "metadata": {},
     "output_type": "execute_result"
    }
   ],
   "source": [
    "'''\n",
    "import matplotlib as mpl\n",
    "from matplotlib import pyplot as plt\n",
    "import os\n",
    "# Needs to modify this path if:\n",
    "#     1) you are on different system\n",
    "#     2) you want other font family\n",
    "path = os.path.abspath('SourceHanSansSC/SourceHanSansSC-Normal.otf')\n",
    "prop = mpl.font_manager.FontProperties(fname=path)\n",
    "mpl.rcParams['font.family'] = prop.get_name()\n",
    "%matplotlib inline\n",
    "'''\n",
    "_"
   ]
  },
  {
   "cell_type": "code",
   "execution_count": 24,
   "metadata": {},
   "outputs": [],
   "source": [
    "#mpl.rcParams['font.family']"
   ]
  },
  {
   "cell_type": "code",
   "execution_count": 25,
   "metadata": {},
   "outputs": [
    {
     "data": {
      "image/png": "[encoded data removed]",
      "text/plain": [
       "<matplotlib.figure.Figure at 0x1101c91d0>"
      ]
     },
     "metadata": {},
     "output_type": "display_data"
    }
   ],
   "source": [
    "wc = wordcloud.WordCloud(background_color=\"white\", max_words=2000, mask=mask, font_path='SourceHanSansSC/SourceHanSansSC-Normal.otf')\n",
    "wc.generate_from_frequencies(c)\n",
    "plt.figure(figsize=(8, 8))\n",
    "plt.imshow(wc, interpolation='bilinear')\n",
    "plt.axis(\"off\")\n",
    "plt.show()"
   ]
  },
  {
   "cell_type": "code",
   "execution_count": 26,
   "metadata": {},
   "outputs": [],
   "source": [
    "#help(wordcloud.WordCloud)"
   ]
  },
  {
   "cell_type": "code",
   "execution_count": 27,
   "metadata": {},
   "outputs": [
    {
     "data": {
      "image/png": "[encoded data removed]",
      "text/plain": [
       "<matplotlib.figure.Figure at 0x10bcff518>"
      ]
     },
     "metadata": {},
     "output_type": "display_data"
    }
   ],
   "source": [
    "# Available matplotlib color map here:\n",
    "# https://matplotlib.org/examples/color/colormaps_reference.html\n",
    "\n",
    "wc = wordcloud.WordCloud(\n",
    "    background_color=\"white\", \n",
    "    max_words=2000, mask=mask, \n",
    "    font_path='SourceHanSansSC/SourceHanSansSC-Normal.otf',\n",
    "    colormap='tab20b'\n",
    ")\n",
    "wc.generate_from_frequencies(c)\n",
    "plt.figure(figsize=(8, 8))\n",
    "plt.imshow(wc, interpolation='bilinear')\n",
    "plt.axis(\"off\")\n",
    "plt.show()"
   ]
  },
  {
   "cell_type": "code",
   "execution_count": 28,
   "metadata": {},
   "outputs": [
    {
     "data": {
      "text/plain": [
       "<matplotlib.colors.ListedColormap at 0x10bea1ac8>"
      ]
     },
     "execution_count": 28,
     "metadata": {},
     "output_type": "execute_result"
    }
   ],
   "source": [
    "plt.get_cmap('tab20b')"
   ]
  },
  {
   "cell_type": "code",
   "execution_count": 29,
   "metadata": {},
   "outputs": [],
   "source": [
    "#matplotlib.colors.cnames"
   ]
  },
  {
   "cell_type": "code",
   "execution_count": 30,
   "metadata": {},
   "outputs": [
    {
     "data": {
      "text/plain": [
       "Counter({'中国大陆': 16,\n",
       "         '丹麦': 1,\n",
       "         '伊朗': 2,\n",
       "         '冰岛': 1,\n",
       "         '加拿大': 7,\n",
       "         '南非': 2,\n",
       "         '博茨瓦纳': 1,\n",
       "         '印度': 3,\n",
       "         '台湾': 7,\n",
       "         '奥地利': 1,\n",
       "         '巴西': 2,\n",
       "         '德国': 20,\n",
       "         '意大利': 11,\n",
       "         '捷克': 1,\n",
       "         '新西兰': 3,\n",
       "         '日本': 32,\n",
       "         '法国': 25,\n",
       "         '波兰': 1,\n",
       "         '泰国': 1,\n",
       "         '澳大利亚': 6,\n",
       "         '爱尔兰': 2,\n",
       "         '瑞典': 2,\n",
       "         '瑞士': 4,\n",
       "         '美国': 142,\n",
       "         '英国': 34,\n",
       "         '西德': 1,\n",
       "         '西班牙': 6,\n",
       "         '阿根廷': 1,\n",
       "         '阿联酋': 1,\n",
       "         '韩国': 10,\n",
       "         '香港': 26})"
      ]
     },
     "execution_count": 30,
     "metadata": {},
     "output_type": "execute_result"
    }
   ],
   "source": [
    "area_counter = Counter()\n",
    "df['area'].apply(lambda t: area_counter.update(t.split()))\n",
    "area_counter"
   ]
  },
  {
   "cell_type": "code",
   "execution_count": 31,
   "metadata": {},
   "outputs": [],
   "source": [
    "#area_counter.keys()\n",
    "s_area_counter = pd.Series(area_counter)"
   ]
  },
  {
   "cell_type": "code",
   "execution_count": 32,
   "metadata": {},
   "outputs": [
    {
     "data": {
      "application/vnd.plotly.v1+json": {
       "data": [
        {
         "labels": [
          "中国大陆",
          "丹麦",
          "伊朗",
          "冰岛",
          "加拿大",
          "南非",
          "博茨瓦纳",
          "印度",
          "台湾",
          "奥地利",
          "巴西",
          "德国",
          "意大利",
          "捷克",
          "新西兰",
          "日本",
          "法国",
          "波兰",
          "泰国",
          "澳大利亚",
          "爱尔兰",
          "瑞典",
          "瑞士",
          "美国",
          "英国",
          "西德",
          "西班牙",
          "阿根廷",
          "阿联酋",
          "韩国",
          "香港"
         ],
         "type": "pie",
         "values": [
          16,
          1,
          2,
          1,
          7,
          2,
          1,
          3,
          7,
          1,
          2,
          20,
          11,
          1,
          3,
          32,
          25,
          1,
          1,
          6,
          2,
          2,
          4,
          142,
          34,
          1,
          6,
          1,
          1,
          10,
          26
         ]
        }
       ],
       "layout": {
        "title": "Top 250 Directors"
       }
      },
      "text/html": [
       "<div id=\"93429d72-1d9b-451d-bfb9-3d2e29948d17\" style=\"height: 525px; width: 100%;\" class=\"plotly-graph-div\"></div><script type=\"text/javascript\">require([\"plotly\"], function(Plotly) { window.PLOTLYENV=window.PLOTLYENV || {};window.PLOTLYENV.BASE_URL=\"https://plot.ly\";Plotly.newPlot(\"93429d72-1d9b-451d-bfb9-3d2e29948d17\", [{\"type\": \"pie\", \"labels\": [\"\\u4e2d\\u56fd\\u5927\\u9646\", \"\\u4e39\\u9ea6\", \"\\u4f0a\\u6717\", \"\\u51b0\\u5c9b\", \"\\u52a0\\u62ff\\u5927\", \"\\u5357\\u975e\", \"\\u535a\\u8328\\u74e6\\u7eb3\", \"\\u5370\\u5ea6\", \"\\u53f0\\u6e7e\", \"\\u5965\\u5730\\u5229\", \"\\u5df4\\u897f\", \"\\u5fb7\\u56fd\", \"\\u610f\\u5927\\u5229\", \"\\u6377\\u514b\", \"\\u65b0\\u897f\\u5170\", \"\\u65e5\\u672c\", \"\\u6cd5\\u56fd\", \"\\u6ce2\\u5170\", \"\\u6cf0\\u56fd\", \"\\u6fb3\\u5927\\u5229\\u4e9a\", \"\\u7231\\u5c14\\u5170\", \"\\u745e\\u5178\", \"\\u745e\\u58eb\", \"\\u7f8e\\u56fd\", \"\\u82f1\\u56fd\", \"\\u897f\\u5fb7\", \"\\u897f\\u73ed\\u7259\", \"\\u963f\\u6839\\u5ef7\", \"\\u963f\\u8054\\u914b\", \"\\u97e9\\u56fd\", \"\\u9999\\u6e2f\"], \"values\": [16, 1, 2, 1, 7, 2, 1, 3, 7, 1, 2, 20, 11, 1, 3, 32, 25, 1, 1, 6, 2, 2, 4, 142, 34, 1, 6, 1, 1, 10, 26]}], {\"title\": \"Top 250 Directors\"}, {\"showLink\": true, \"linkText\": \"Export to plot.ly\"})});</script>"
      ],
      "text/vnd.plotly.v1+html": [
       "<div id=\"93429d72-1d9b-451d-bfb9-3d2e29948d17\" style=\"height: 525px; width: 100%;\" class=\"plotly-graph-div\"></div><script type=\"text/javascript\">require([\"plotly\"], function(Plotly) { window.PLOTLYENV=window.PLOTLYENV || {};window.PLOTLYENV.BASE_URL=\"https://plot.ly\";Plotly.newPlot(\"93429d72-1d9b-451d-bfb9-3d2e29948d17\", [{\"type\": \"pie\", \"labels\": [\"\\u4e2d\\u56fd\\u5927\\u9646\", \"\\u4e39\\u9ea6\", \"\\u4f0a\\u6717\", \"\\u51b0\\u5c9b\", \"\\u52a0\\u62ff\\u5927\", \"\\u5357\\u975e\", \"\\u535a\\u8328\\u74e6\\u7eb3\", \"\\u5370\\u5ea6\", \"\\u53f0\\u6e7e\", \"\\u5965\\u5730\\u5229\", \"\\u5df4\\u897f\", \"\\u5fb7\\u56fd\", \"\\u610f\\u5927\\u5229\", \"\\u6377\\u514b\", \"\\u65b0\\u897f\\u5170\", \"\\u65e5\\u672c\", \"\\u6cd5\\u56fd\", \"\\u6ce2\\u5170\", \"\\u6cf0\\u56fd\", \"\\u6fb3\\u5927\\u5229\\u4e9a\", \"\\u7231\\u5c14\\u5170\", \"\\u745e\\u5178\", \"\\u745e\\u58eb\", \"\\u7f8e\\u56fd\", \"\\u82f1\\u56fd\", \"\\u897f\\u5fb7\", \"\\u897f\\u73ed\\u7259\", \"\\u963f\\u6839\\u5ef7\", \"\\u963f\\u8054\\u914b\", \"\\u97e9\\u56fd\", \"\\u9999\\u6e2f\"], \"values\": [16, 1, 2, 1, 7, 2, 1, 3, 7, 1, 2, 20, 11, 1, 3, 32, 25, 1, 1, 6, 2, 2, 4, 142, 34, 1, 6, 1, 1, 10, 26]}], {\"title\": \"Top 250 Directors\"}, {\"showLink\": true, \"linkText\": \"Export to plot.ly\"})});</script>"
      ]
     },
     "metadata": {},
     "output_type": "display_data"
    }
   ],
   "source": [
    "from plotly.graph_objs import Pie\n",
    "\n",
    "iplot({\n",
    "    \"data\": [Pie(\n",
    "        labels=s_area_counter.index,\n",
    "        values=s_area_counter.values,\n",
    "    )],\n",
    "    \"layout\": Layout(title=\"Top 250 Directors\")\n",
    "})"
   ]
  },
  {
   "cell_type": "code",
   "execution_count": 33,
   "metadata": {},
   "outputs": [
    {
     "data": {
      "text/plain": [
       "美国      142\n",
       "英国       34\n",
       "日本       32\n",
       "香港       26\n",
       "法国       25\n",
       "德国       20\n",
       "中国大陆     16\n",
       "意大利      11\n",
       "韩国       10\n",
       "加拿大       7\n",
       "台湾        7\n",
       "西班牙       6\n",
       "澳大利亚      6\n",
       "瑞士        4\n",
       "新西兰       3\n",
       "印度        3\n",
       "南非        2\n",
       "爱尔兰       2\n",
       "瑞典        2\n",
       "巴西        2\n",
       "伊朗        2\n",
       "泰国        1\n",
       "丹麦        1\n",
       "冰岛        1\n",
       "阿根廷       1\n",
       "奥地利       1\n",
       "博茨瓦纳      1\n",
       "阿联酋       1\n",
       "波兰        1\n",
       "西德        1\n",
       "捷克        1\n",
       "dtype: int64"
      ]
     },
     "execution_count": 33,
     "metadata": {},
     "output_type": "execute_result"
    }
   ],
   "source": [
    "s_area_counter.sort_values(ascending=False)"
   ]
  },
  {
   "cell_type": "code",
   "execution_count": 34,
   "metadata": {},
   "outputs": [
    {
     "data": {
      "text/plain": [
       "美国      142\n",
       "英国       34\n",
       "日本       32\n",
       "香港       26\n",
       "法国       25\n",
       "德国       20\n",
       "中国大陆     16\n",
       "dtype: int64"
      ]
     },
     "execution_count": 34,
     "metadata": {},
     "output_type": "execute_result"
    }
   ],
   "source": [
    "s_area_counter.sort_values(ascending=False)[:7]"
   ]
  },
  {
   "cell_type": "code",
   "execution_count": 35,
   "metadata": {},
   "outputs": [],
   "source": [
    "top_areas = s_area_counter.sort_values(ascending=False)[:7]"
   ]
  },
  {
   "cell_type": "code",
   "execution_count": 36,
   "metadata": {},
   "outputs": [
    {
     "data": {
      "text/plain": [
       "77"
      ]
     },
     "execution_count": 36,
     "metadata": {},
     "output_type": "execute_result"
    }
   ],
   "source": [
    "s_area_counter.sort_values(ascending=False)[7:].sum()"
   ]
  },
  {
   "cell_type": "code",
   "execution_count": 37,
   "metadata": {},
   "outputs": [],
   "source": [
    "top_areas['Other'] = s_area_counter.sort_values(ascending=False)[7:].sum()"
   ]
  },
  {
   "cell_type": "code",
   "execution_count": 38,
   "metadata": {},
   "outputs": [
    {
     "data": {
      "text/plain": [
       "美国       142\n",
       "英国        34\n",
       "日本        32\n",
       "香港        26\n",
       "法国        25\n",
       "德国        20\n",
       "中国大陆      16\n",
       "Other     77\n",
       "dtype: int64"
      ]
     },
     "execution_count": 38,
     "metadata": {},
     "output_type": "execute_result"
    }
   ],
   "source": [
    "top_areas"
   ]
  },
  {
   "cell_type": "code",
   "execution_count": 39,
   "metadata": {},
   "outputs": [
    {
     "data": {
      "application/vnd.plotly.v1+json": {
       "data": [
        {
         "labels": [
          "美国",
          "英国",
          "日本",
          "香港",
          "法国",
          "德国",
          "中国大陆",
          "Other"
         ],
         "type": "pie",
         "values": [
          142,
          34,
          32,
          26,
          25,
          20,
          16,
          77
         ]
        }
       ],
       "layout": {
        "title": "Top 250 Directors"
       }
      },
      "text/html": [
       "<div id=\"95250c82-1410-47d0-89a1-5a3cca14abbd\" style=\"height: 525px; width: 100%;\" class=\"plotly-graph-div\"></div><script type=\"text/javascript\">require([\"plotly\"], function(Plotly) { window.PLOTLYENV=window.PLOTLYENV || {};window.PLOTLYENV.BASE_URL=\"https://plot.ly\";Plotly.newPlot(\"95250c82-1410-47d0-89a1-5a3cca14abbd\", [{\"type\": \"pie\", \"labels\": [\"\\u7f8e\\u56fd\", \"\\u82f1\\u56fd\", \"\\u65e5\\u672c\", \"\\u9999\\u6e2f\", \"\\u6cd5\\u56fd\", \"\\u5fb7\\u56fd\", \"\\u4e2d\\u56fd\\u5927\\u9646\", \"Other\"], \"values\": [142, 34, 32, 26, 25, 20, 16, 77]}], {\"title\": \"Top 250 Directors\"}, {\"showLink\": true, \"linkText\": \"Export to plot.ly\"})});</script>"
      ],
      "text/vnd.plotly.v1+html": [
       "<div id=\"95250c82-1410-47d0-89a1-5a3cca14abbd\" style=\"height: 525px; width: 100%;\" class=\"plotly-graph-div\"></div><script type=\"text/javascript\">require([\"plotly\"], function(Plotly) { window.PLOTLYENV=window.PLOTLYENV || {};window.PLOTLYENV.BASE_URL=\"https://plot.ly\";Plotly.newPlot(\"95250c82-1410-47d0-89a1-5a3cca14abbd\", [{\"type\": \"pie\", \"labels\": [\"\\u7f8e\\u56fd\", \"\\u82f1\\u56fd\", \"\\u65e5\\u672c\", \"\\u9999\\u6e2f\", \"\\u6cd5\\u56fd\", \"\\u5fb7\\u56fd\", \"\\u4e2d\\u56fd\\u5927\\u9646\", \"Other\"], \"values\": [142, 34, 32, 26, 25, 20, 16, 77]}], {\"title\": \"Top 250 Directors\"}, {\"showLink\": true, \"linkText\": \"Export to plot.ly\"})});</script>"
      ]
     },
     "metadata": {},
     "output_type": "display_data"
    }
   ],
   "source": [
    "iplot({\n",
    "    \"data\": [Pie(\n",
    "        labels=top_areas.index,\n",
    "        values=top_areas.values,\n",
    "    )],\n",
    "    \"layout\": Layout(title=\"Top 250 Directors\")\n",
    "})"
   ]
  },
  {
   "cell_type": "code",
   "execution_count": 40,
   "metadata": {},
   "outputs": [
    {
     "data": {
      "application/vnd.plotly.v1+json": {
       "data": [
        {
         "labels": [
          "美国",
          "英国",
          "日本",
          "香港",
          "法国",
          "德国",
          "中国大陆",
          "Other"
         ],
         "marker": {
          "colors": [
           "#FFB94F",
           "#409FB2",
           "#409FB2",
           "#409FB2",
           "#409FB2",
           "#409FB2",
           "#409FB2",
           "#409FB2"
          ]
         },
         "type": "pie",
         "values": [
          142,
          34,
          32,
          26,
          25,
          20,
          16,
          77
         ]
        }
       ],
       "layout": {
        "title": "Top 250 Directors"
       }
      },
      "text/html": [
       "<div id=\"8aa15d3b-ee81-48fa-9b55-b5388895a849\" style=\"height: 525px; width: 100%;\" class=\"plotly-graph-div\"></div><script type=\"text/javascript\">require([\"plotly\"], function(Plotly) { window.PLOTLYENV=window.PLOTLYENV || {};window.PLOTLYENV.BASE_URL=\"https://plot.ly\";Plotly.newPlot(\"8aa15d3b-ee81-48fa-9b55-b5388895a849\", [{\"type\": \"pie\", \"labels\": [\"\\u7f8e\\u56fd\", \"\\u82f1\\u56fd\", \"\\u65e5\\u672c\", \"\\u9999\\u6e2f\", \"\\u6cd5\\u56fd\", \"\\u5fb7\\u56fd\", \"\\u4e2d\\u56fd\\u5927\\u9646\", \"Other\"], \"values\": [142, 34, 32, 26, 25, 20, 16, 77], \"marker\": {\"colors\": [\"#FFB94F\", \"#409FB2\", \"#409FB2\", \"#409FB2\", \"#409FB2\", \"#409FB2\", \"#409FB2\", \"#409FB2\"]}}], {\"title\": \"Top 250 Directors\"}, {\"showLink\": true, \"linkText\": \"Export to plot.ly\"})});</script>"
      ],
      "text/vnd.plotly.v1+html": [
       "<div id=\"8aa15d3b-ee81-48fa-9b55-b5388895a849\" style=\"height: 525px; width: 100%;\" class=\"plotly-graph-div\"></div><script type=\"text/javascript\">require([\"plotly\"], function(Plotly) { window.PLOTLYENV=window.PLOTLYENV || {};window.PLOTLYENV.BASE_URL=\"https://plot.ly\";Plotly.newPlot(\"8aa15d3b-ee81-48fa-9b55-b5388895a849\", [{\"type\": \"pie\", \"labels\": [\"\\u7f8e\\u56fd\", \"\\u82f1\\u56fd\", \"\\u65e5\\u672c\", \"\\u9999\\u6e2f\", \"\\u6cd5\\u56fd\", \"\\u5fb7\\u56fd\", \"\\u4e2d\\u56fd\\u5927\\u9646\", \"Other\"], \"values\": [142, 34, 32, 26, 25, 20, 16, 77], \"marker\": {\"colors\": [\"#FFB94F\", \"#409FB2\", \"#409FB2\", \"#409FB2\", \"#409FB2\", \"#409FB2\", \"#409FB2\", \"#409FB2\"]}}], {\"title\": \"Top 250 Directors\"}, {\"showLink\": true, \"linkText\": \"Export to plot.ly\"})});</script>"
      ]
     },
     "metadata": {},
     "output_type": "display_data"
    }
   ],
   "source": [
    "colors = ['#409FB2'] * len(top_areas)\n",
    "colors[0] = '#FFB94F' #美国\n",
    "\n",
    "iplot({\n",
    "    \"data\": [Pie(\n",
    "        labels=top_areas.index,\n",
    "        values=top_areas.values,\n",
    "        marker={\n",
    "            'colors': colors\n",
    "        }\n",
    "    )],\n",
    "    \"layout\": Layout(title=\"Top 250 Directors\")\n",
    "})"
   ]
  },
  {
   "cell_type": "code",
   "execution_count": 41,
   "metadata": {},
   "outputs": [
    {
     "data": {
      "text/plain": [
       "<matplotlib.axes._subplots.AxesSubplot at 0x10849cba8>"
      ]
     },
     "execution_count": 41,
     "metadata": {},
     "output_type": "execute_result"
    },
    {
     "data": {
      "image/png": "[encoded data removed]",
      "text/plain": [
       "<matplotlib.figure.Figure at 0x1084a3780>"
      ]
     },
     "metadata": {},
     "output_type": "display_data"
    }
   ],
   "source": [
    "df['year'].value_counts().sort_index().plot()"
   ]
  },
  {
   "cell_type": "code",
   "execution_count": 42,
   "metadata": {},
   "outputs": [
    {
     "data": {
      "text/plain": [
       "<matplotlib.axes._subplots.AxesSubplot at 0x10ef94a90>"
      ]
     },
     "execution_count": 42,
     "metadata": {},
     "output_type": "execute_result"
    },
    {
     "data": {
      "image/png": "[encoded data removed]",
      "text/plain": [
       "<matplotlib.figure.Figure at 0x107e45a20>"
      ]
     },
     "metadata": {},
     "output_type": "display_data"
    }
   ],
   "source": [
    "df[\n",
    "    df['area'].apply(lambda x: '中国大陆' in x)\n",
    "]['year'].value_counts().sort_index().plot()"
   ]
  },
  {
   "cell_type": "code",
   "execution_count": 43,
   "metadata": {},
   "outputs": [
    {
     "data": {
      "text/plain": [
       "<matplotlib.axes._subplots.AxesSubplot at 0x10ef48198>"
      ]
     },
     "execution_count": 43,
     "metadata": {},
     "output_type": "execute_result"
    },
    {
     "data": {
      "image/png": "[encoded data removed]",
      "text/plain": [
       "<matplotlib.figure.Figure at 0x1101de7f0>"
      ]
     },
     "metadata": {},
     "output_type": "display_data"
    }
   ],
   "source": [
    "df[\n",
    "    df['area'].apply(lambda x: '香港' in x)\n",
    "]['year'].value_counts().sort_index().plot()"
   ]
  },
  {
   "cell_type": "code",
   "execution_count": 44,
   "metadata": {},
   "outputs": [
    {
     "data": {
      "text/plain": [
       "<matplotlib.axes._subplots.AxesSubplot at 0x110769940>"
      ]
     },
     "execution_count": 44,
     "metadata": {},
     "output_type": "execute_result"
    },
    {
     "data": {
      "image/png": "[encoded data removed]",
      "text/plain": [
       "<matplotlib.figure.Figure at 0x1101f2668>"
      ]
     },
     "metadata": {},
     "output_type": "display_data"
    }
   ],
   "source": [
    "df[\n",
    "    df['area'].apply(lambda x: '香港' in x)\n",
    "]['year'].value_counts().sort_index().plot(kind='area')"
   ]
  },
  {
   "cell_type": "code",
   "execution_count": 45,
   "metadata": {},
   "outputs": [
    {
     "data": {
      "text/plain": [
       "<matplotlib.axes._subplots.AxesSubplot at 0x110782198>"
      ]
     },
     "execution_count": 45,
     "metadata": {},
     "output_type": "execute_result"
    },
    {
     "data": {
      "image/png": "[encoded data removed]",
      "text/plain": [
       "<matplotlib.figure.Figure at 0x1107fdda0>"
      ]
     },
     "metadata": {},
     "output_type": "display_data"
    }
   ],
   "source": [
    "df[\n",
    "    df['area'].apply(lambda x: '香港' in x)\n",
    "]['year'].value_counts().sort_index().cumsum().plot(kind='area')"
   ]
  },
  {
   "cell_type": "code",
   "execution_count": 46,
   "metadata": {},
   "outputs": [],
   "source": [
    "s_hk = df[\n",
    "    df['area'].apply(lambda x: '香港' in x)\n",
    "]['year'].value_counts().sort_index()\n",
    "s_cn = df[\n",
    "    df['area'].apply(lambda x: '中国大陆' in x)\n",
    "]['year'].value_counts().sort_index()"
   ]
  },
  {
   "cell_type": "code",
   "execution_count": 47,
   "metadata": {},
   "outputs": [
    {
     "data": {
      "text/html": [
       "<div>\n",
       "<style scoped>\n",
       "    .dataframe tbody tr th:only-of-type {\n",
       "        vertical-align: middle;\n",
       "    }\n",
       "\n",
       "    .dataframe tbody tr th {\n",
       "        vertical-align: top;\n",
       "    }\n",
       "\n",
       "    .dataframe thead th {\n",
       "        text-align: right;\n",
       "    }\n",
       "</style>\n",
       "<table border=\"1\" class=\"dataframe\">\n",
       "  <thead>\n",
       "    <tr style=\"text-align: right;\">\n",
       "      <th></th>\n",
       "      <th>CN</th>\n",
       "      <th>HK</th>\n",
       "    </tr>\n",
       "  </thead>\n",
       "  <tbody>\n",
       "    <tr>\n",
       "      <th>1979</th>\n",
       "      <td>1.0</td>\n",
       "      <td>NaN</td>\n",
       "    </tr>\n",
       "    <tr>\n",
       "      <th>1986</th>\n",
       "      <td>NaN</td>\n",
       "      <td>1.0</td>\n",
       "    </tr>\n",
       "    <tr>\n",
       "      <th>1987</th>\n",
       "      <td>1.0</td>\n",
       "      <td>1.0</td>\n",
       "    </tr>\n",
       "    <tr>\n",
       "      <th>1990</th>\n",
       "      <td>NaN</td>\n",
       "      <td>1.0</td>\n",
       "    </tr>\n",
       "    <tr>\n",
       "      <th>1991</th>\n",
       "      <td>NaN</td>\n",
       "      <td>1.0</td>\n",
       "    </tr>\n",
       "    <tr>\n",
       "      <th>1992</th>\n",
       "      <td>1.0</td>\n",
       "      <td>1.0</td>\n",
       "    </tr>\n",
       "    <tr>\n",
       "      <th>1993</th>\n",
       "      <td>1.0</td>\n",
       "      <td>4.0</td>\n",
       "    </tr>\n",
       "    <tr>\n",
       "      <th>1994</th>\n",
       "      <td>2.0</td>\n",
       "      <td>4.0</td>\n",
       "    </tr>\n",
       "    <tr>\n",
       "      <th>1995</th>\n",
       "      <td>2.0</td>\n",
       "      <td>2.0</td>\n",
       "    </tr>\n",
       "    <tr>\n",
       "      <th>1996</th>\n",
       "      <td>NaN</td>\n",
       "      <td>1.0</td>\n",
       "    </tr>\n",
       "    <tr>\n",
       "      <th>1997</th>\n",
       "      <td>NaN</td>\n",
       "      <td>1.0</td>\n",
       "    </tr>\n",
       "    <tr>\n",
       "      <th>1999</th>\n",
       "      <td>NaN</td>\n",
       "      <td>2.0</td>\n",
       "    </tr>\n",
       "    <tr>\n",
       "      <th>2000</th>\n",
       "      <td>1.0</td>\n",
       "      <td>1.0</td>\n",
       "    </tr>\n",
       "    <tr>\n",
       "      <th>2001</th>\n",
       "      <td>NaN</td>\n",
       "      <td>1.0</td>\n",
       "    </tr>\n",
       "    <tr>\n",
       "      <th>2002</th>\n",
       "      <td>NaN</td>\n",
       "      <td>1.0</td>\n",
       "    </tr>\n",
       "    <tr>\n",
       "      <th>2004</th>\n",
       "      <td>1.0</td>\n",
       "      <td>1.0</td>\n",
       "    </tr>\n",
       "    <tr>\n",
       "      <th>2004(中国大陆)</th>\n",
       "      <td>1.0</td>\n",
       "      <td>NaN</td>\n",
       "    </tr>\n",
       "    <tr>\n",
       "      <th>2006</th>\n",
       "      <td>1.0</td>\n",
       "      <td>1.0</td>\n",
       "    </tr>\n",
       "    <tr>\n",
       "      <th>2010</th>\n",
       "      <td>2.0</td>\n",
       "      <td>2.0</td>\n",
       "    </tr>\n",
       "    <tr>\n",
       "      <th>2014</th>\n",
       "      <td>1.0</td>\n",
       "      <td>NaN</td>\n",
       "    </tr>\n",
       "    <tr>\n",
       "      <th>2015</th>\n",
       "      <td>1.0</td>\n",
       "      <td>NaN</td>\n",
       "    </tr>\n",
       "  </tbody>\n",
       "</table>\n",
       "</div>"
      ],
      "text/plain": [
       "             CN   HK\n",
       "1979        1.0  NaN\n",
       "1986        NaN  1.0\n",
       "1987        1.0  1.0\n",
       "1990        NaN  1.0\n",
       "1991        NaN  1.0\n",
       "1992        1.0  1.0\n",
       "1993        1.0  4.0\n",
       "1994        2.0  4.0\n",
       "1995        2.0  2.0\n",
       "1996        NaN  1.0\n",
       "1997        NaN  1.0\n",
       "1999        NaN  2.0\n",
       "2000        1.0  1.0\n",
       "2001        NaN  1.0\n",
       "2002        NaN  1.0\n",
       "2004        1.0  1.0\n",
       "2004(中国大陆)  1.0  NaN\n",
       "2006        1.0  1.0\n",
       "2010        2.0  2.0\n",
       "2014        1.0  NaN\n",
       "2015        1.0  NaN"
      ]
     },
     "execution_count": 47,
     "metadata": {},
     "output_type": "execute_result"
    }
   ],
   "source": [
    "df_hk_cn = pd.DataFrame({\n",
    "    'HK': s_hk,\n",
    "    'CN': s_cn\n",
    "})\n",
    "df_hk_cn"
   ]
  },
  {
   "cell_type": "code",
   "execution_count": 48,
   "metadata": {},
   "outputs": [],
   "source": [
    "#df_hk_cn"
   ]
  },
  {
   "cell_type": "code",
   "execution_count": 49,
   "metadata": {},
   "outputs": [
    {
     "data": {
      "text/html": [
       "<div>\n",
       "<style scoped>\n",
       "    .dataframe tbody tr th:only-of-type {\n",
       "        vertical-align: middle;\n",
       "    }\n",
       "\n",
       "    .dataframe tbody tr th {\n",
       "        vertical-align: top;\n",
       "    }\n",
       "\n",
       "    .dataframe thead th {\n",
       "        text-align: right;\n",
       "    }\n",
       "</style>\n",
       "<table border=\"1\" class=\"dataframe\">\n",
       "  <thead>\n",
       "    <tr style=\"text-align: right;\">\n",
       "      <th></th>\n",
       "      <th>index</th>\n",
       "      <th>CN</th>\n",
       "      <th>HK</th>\n",
       "    </tr>\n",
       "  </thead>\n",
       "  <tbody>\n",
       "    <tr>\n",
       "      <th>0</th>\n",
       "      <td>1979</td>\n",
       "      <td>1.0</td>\n",
       "      <td>NaN</td>\n",
       "    </tr>\n",
       "    <tr>\n",
       "      <th>1</th>\n",
       "      <td>1986</td>\n",
       "      <td>NaN</td>\n",
       "      <td>1.0</td>\n",
       "    </tr>\n",
       "    <tr>\n",
       "      <th>2</th>\n",
       "      <td>1987</td>\n",
       "      <td>1.0</td>\n",
       "      <td>1.0</td>\n",
       "    </tr>\n",
       "    <tr>\n",
       "      <th>3</th>\n",
       "      <td>1990</td>\n",
       "      <td>NaN</td>\n",
       "      <td>1.0</td>\n",
       "    </tr>\n",
       "    <tr>\n",
       "      <th>4</th>\n",
       "      <td>1991</td>\n",
       "      <td>NaN</td>\n",
       "      <td>1.0</td>\n",
       "    </tr>\n",
       "    <tr>\n",
       "      <th>5</th>\n",
       "      <td>1992</td>\n",
       "      <td>1.0</td>\n",
       "      <td>1.0</td>\n",
       "    </tr>\n",
       "    <tr>\n",
       "      <th>6</th>\n",
       "      <td>1993</td>\n",
       "      <td>1.0</td>\n",
       "      <td>4.0</td>\n",
       "    </tr>\n",
       "    <tr>\n",
       "      <th>7</th>\n",
       "      <td>1994</td>\n",
       "      <td>2.0</td>\n",
       "      <td>4.0</td>\n",
       "    </tr>\n",
       "    <tr>\n",
       "      <th>8</th>\n",
       "      <td>1995</td>\n",
       "      <td>2.0</td>\n",
       "      <td>2.0</td>\n",
       "    </tr>\n",
       "    <tr>\n",
       "      <th>9</th>\n",
       "      <td>1996</td>\n",
       "      <td>NaN</td>\n",
       "      <td>1.0</td>\n",
       "    </tr>\n",
       "    <tr>\n",
       "      <th>10</th>\n",
       "      <td>1997</td>\n",
       "      <td>NaN</td>\n",
       "      <td>1.0</td>\n",
       "    </tr>\n",
       "    <tr>\n",
       "      <th>11</th>\n",
       "      <td>1999</td>\n",
       "      <td>NaN</td>\n",
       "      <td>2.0</td>\n",
       "    </tr>\n",
       "    <tr>\n",
       "      <th>12</th>\n",
       "      <td>2000</td>\n",
       "      <td>1.0</td>\n",
       "      <td>1.0</td>\n",
       "    </tr>\n",
       "    <tr>\n",
       "      <th>13</th>\n",
       "      <td>2001</td>\n",
       "      <td>NaN</td>\n",
       "      <td>1.0</td>\n",
       "    </tr>\n",
       "    <tr>\n",
       "      <th>14</th>\n",
       "      <td>2002</td>\n",
       "      <td>NaN</td>\n",
       "      <td>1.0</td>\n",
       "    </tr>\n",
       "    <tr>\n",
       "      <th>15</th>\n",
       "      <td>2004</td>\n",
       "      <td>1.0</td>\n",
       "      <td>1.0</td>\n",
       "    </tr>\n",
       "    <tr>\n",
       "      <th>17</th>\n",
       "      <td>2006</td>\n",
       "      <td>1.0</td>\n",
       "      <td>1.0</td>\n",
       "    </tr>\n",
       "    <tr>\n",
       "      <th>18</th>\n",
       "      <td>2010</td>\n",
       "      <td>2.0</td>\n",
       "      <td>2.0</td>\n",
       "    </tr>\n",
       "    <tr>\n",
       "      <th>19</th>\n",
       "      <td>2014</td>\n",
       "      <td>1.0</td>\n",
       "      <td>NaN</td>\n",
       "    </tr>\n",
       "    <tr>\n",
       "      <th>20</th>\n",
       "      <td>2015</td>\n",
       "      <td>1.0</td>\n",
       "      <td>NaN</td>\n",
       "    </tr>\n",
       "  </tbody>\n",
       "</table>\n",
       "</div>"
      ],
      "text/plain": [
       "   index   CN   HK\n",
       "0   1979  1.0  NaN\n",
       "1   1986  NaN  1.0\n",
       "2   1987  1.0  1.0\n",
       "3   1990  NaN  1.0\n",
       "4   1991  NaN  1.0\n",
       "5   1992  1.0  1.0\n",
       "6   1993  1.0  4.0\n",
       "7   1994  2.0  4.0\n",
       "8   1995  2.0  2.0\n",
       "9   1996  NaN  1.0\n",
       "10  1997  NaN  1.0\n",
       "11  1999  NaN  2.0\n",
       "12  2000  1.0  1.0\n",
       "13  2001  NaN  1.0\n",
       "14  2002  NaN  1.0\n",
       "15  2004  1.0  1.0\n",
       "17  2006  1.0  1.0\n",
       "18  2010  2.0  2.0\n",
       "19  2014  1.0  NaN\n",
       "20  2015  1.0  NaN"
      ]
     },
     "execution_count": 49,
     "metadata": {},
     "output_type": "execute_result"
    }
   ],
   "source": [
    "df_hk_cn = df_hk_cn.reset_index()\n",
    "df_hk_cn = df_hk_cn[\n",
    "    df_hk_cn['index'] != '2004(中国大陆)'\n",
    "]\n",
    "df_hk_cn"
   ]
  },
  {
   "cell_type": "code",
   "execution_count": 50,
   "metadata": {},
   "outputs": [
    {
     "data": {
      "text/html": [
       "<div>\n",
       "<style scoped>\n",
       "    .dataframe tbody tr th:only-of-type {\n",
       "        vertical-align: middle;\n",
       "    }\n",
       "\n",
       "    .dataframe tbody tr th {\n",
       "        vertical-align: top;\n",
       "    }\n",
       "\n",
       "    .dataframe thead th {\n",
       "        text-align: right;\n",
       "    }\n",
       "</style>\n",
       "<table border=\"1\" class=\"dataframe\">\n",
       "  <thead>\n",
       "    <tr style=\"text-align: right;\">\n",
       "      <th></th>\n",
       "      <th>CN</th>\n",
       "      <th>HK</th>\n",
       "    </tr>\n",
       "    <tr>\n",
       "      <th>index</th>\n",
       "      <th></th>\n",
       "      <th></th>\n",
       "    </tr>\n",
       "  </thead>\n",
       "  <tbody>\n",
       "    <tr>\n",
       "      <th>1979</th>\n",
       "      <td>1.0</td>\n",
       "      <td>NaN</td>\n",
       "    </tr>\n",
       "    <tr>\n",
       "      <th>1986</th>\n",
       "      <td>NaN</td>\n",
       "      <td>1.0</td>\n",
       "    </tr>\n",
       "    <tr>\n",
       "      <th>1987</th>\n",
       "      <td>2.0</td>\n",
       "      <td>2.0</td>\n",
       "    </tr>\n",
       "    <tr>\n",
       "      <th>1990</th>\n",
       "      <td>NaN</td>\n",
       "      <td>3.0</td>\n",
       "    </tr>\n",
       "    <tr>\n",
       "      <th>1991</th>\n",
       "      <td>NaN</td>\n",
       "      <td>4.0</td>\n",
       "    </tr>\n",
       "    <tr>\n",
       "      <th>1992</th>\n",
       "      <td>3.0</td>\n",
       "      <td>5.0</td>\n",
       "    </tr>\n",
       "    <tr>\n",
       "      <th>1993</th>\n",
       "      <td>4.0</td>\n",
       "      <td>9.0</td>\n",
       "    </tr>\n",
       "    <tr>\n",
       "      <th>1994</th>\n",
       "      <td>6.0</td>\n",
       "      <td>13.0</td>\n",
       "    </tr>\n",
       "    <tr>\n",
       "      <th>1995</th>\n",
       "      <td>8.0</td>\n",
       "      <td>15.0</td>\n",
       "    </tr>\n",
       "    <tr>\n",
       "      <th>1996</th>\n",
       "      <td>NaN</td>\n",
       "      <td>16.0</td>\n",
       "    </tr>\n",
       "    <tr>\n",
       "      <th>1997</th>\n",
       "      <td>NaN</td>\n",
       "      <td>17.0</td>\n",
       "    </tr>\n",
       "    <tr>\n",
       "      <th>1999</th>\n",
       "      <td>NaN</td>\n",
       "      <td>19.0</td>\n",
       "    </tr>\n",
       "    <tr>\n",
       "      <th>2000</th>\n",
       "      <td>9.0</td>\n",
       "      <td>20.0</td>\n",
       "    </tr>\n",
       "    <tr>\n",
       "      <th>2001</th>\n",
       "      <td>NaN</td>\n",
       "      <td>21.0</td>\n",
       "    </tr>\n",
       "    <tr>\n",
       "      <th>2002</th>\n",
       "      <td>NaN</td>\n",
       "      <td>22.0</td>\n",
       "    </tr>\n",
       "    <tr>\n",
       "      <th>2004</th>\n",
       "      <td>10.0</td>\n",
       "      <td>23.0</td>\n",
       "    </tr>\n",
       "    <tr>\n",
       "      <th>2006</th>\n",
       "      <td>11.0</td>\n",
       "      <td>24.0</td>\n",
       "    </tr>\n",
       "    <tr>\n",
       "      <th>2010</th>\n",
       "      <td>13.0</td>\n",
       "      <td>26.0</td>\n",
       "    </tr>\n",
       "    <tr>\n",
       "      <th>2014</th>\n",
       "      <td>14.0</td>\n",
       "      <td>NaN</td>\n",
       "    </tr>\n",
       "    <tr>\n",
       "      <th>2015</th>\n",
       "      <td>15.0</td>\n",
       "      <td>NaN</td>\n",
       "    </tr>\n",
       "  </tbody>\n",
       "</table>\n",
       "</div>"
      ],
      "text/plain": [
       "         CN    HK\n",
       "index            \n",
       "1979    1.0   NaN\n",
       "1986    NaN   1.0\n",
       "1987    2.0   2.0\n",
       "1990    NaN   3.0\n",
       "1991    NaN   4.0\n",
       "1992    3.0   5.0\n",
       "1993    4.0   9.0\n",
       "1994    6.0  13.0\n",
       "1995    8.0  15.0\n",
       "1996    NaN  16.0\n",
       "1997    NaN  17.0\n",
       "1999    NaN  19.0\n",
       "2000    9.0  20.0\n",
       "2001    NaN  21.0\n",
       "2002    NaN  22.0\n",
       "2004   10.0  23.0\n",
       "2006   11.0  24.0\n",
       "2010   13.0  26.0\n",
       "2014   14.0   NaN\n",
       "2015   15.0   NaN"
      ]
     },
     "execution_count": 50,
     "metadata": {},
     "output_type": "execute_result"
    }
   ],
   "source": [
    "df_hk_cn.set_index('index').cumsum()"
   ]
  },
  {
   "cell_type": "code",
   "execution_count": 51,
   "metadata": {},
   "outputs": [
    {
     "data": {
      "text/plain": [
       "<matplotlib.axes._subplots.AxesSubplot at 0x10eff17f0>"
      ]
     },
     "execution_count": 51,
     "metadata": {},
     "output_type": "execute_result"
    },
    {
     "data": {
      "image/png": "[encoded data removed]",
      "text/plain": [
       "<matplotlib.figure.Figure at 0x11081d978>"
      ]
     },
     "metadata": {},
     "output_type": "display_data"
    }
   ],
   "source": [
    "df_hk_cn.set_index('index').fillna(0).cumsum().plot(kind='area', stacked=False)"
   ]
  },
  {
   "cell_type": "code",
   "execution_count": 52,
   "metadata": {},
   "outputs": [
    {
     "data": {
      "text/plain": [
       "<matplotlib.axes._subplots.AxesSubplot at 0x110929198>"
      ]
     },
     "execution_count": 52,
     "metadata": {},
     "output_type": "execute_result"
    },
    {
     "data": {
      "image/png": "[encoded data removed]",
      "text/plain": [
       "<matplotlib.figure.Figure at 0x1109ce128>"
      ]
     },
     "metadata": {},
     "output_type": "display_data"
    }
   ],
   "source": [
    "df_hk_cn.set_index('index').fillna(0).cumsum().plot()"
   ]
  },
  {
   "cell_type": "code",
   "execution_count": 53,
   "metadata": {},
   "outputs": [],
   "source": [
    "#df_hk_cn['index'].values"
   ]
  }
 ],
 "metadata": {
  "kernelspec": {
   "display_name": "Python 3",
   "language": "python",
   "name": "python3"
  },
  "language_info": {
   "codemirror_mode": {
    "name": "ipython",
    "version": 3
   },
   "file_extension": ".py",
   "mimetype": "text/x-python",
   "name": "python",
   "nbconvert_exporter": "python",
   "pygments_lexer": "ipython3",
   "version": "3.6.3"
  }
 },
 "nbformat": 4,
 "nbformat_minor": 2
}
